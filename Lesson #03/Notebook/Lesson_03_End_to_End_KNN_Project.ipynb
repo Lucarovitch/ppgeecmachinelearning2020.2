{
  "nbformat": 4,
  "nbformat_minor": 0,
  "metadata": {
    "colab": {
      "name": "Lesson #03 - End-to-End KNN Project.ipynb",
      "provenance": [],
      "collapsed_sections": [],
      "toc_visible": true
    },
    "kernelspec": {
      "name": "python3",
      "display_name": "Python 3"
    }
  },
  "cells": [
    {
      "cell_type": "markdown",
      "metadata": {
        "id": "3C3S-FPxiMNn"
      },
      "source": [
        "# 1.0 End-to-End Project"
      ]
    },
    {
      "cell_type": "markdown",
      "metadata": {
        "id": "ucdFgX0ePMvH"
      },
      "source": [
        "## 1.1 Import Libraries"
      ]
    },
    {
      "cell_type": "code",
      "metadata": {
        "id": "012WiZVyPQPj"
      },
      "source": [
        "# importing packages\n",
        "import pandas as pd\n",
        "import numpy as np\n",
        "import seaborn as sns\n",
        "import matplotlib.pyplot as plt\n",
        "from sklearn.model_selection import train_test_split\n",
        "from sklearn.neighbors import KNeighborsRegressor\n",
        "from sklearn.metrics import mean_squared_error\n",
        "from sklearn.model_selection import KFold\n",
        "from sklearn.model_selection import cross_val_score\n",
        "from sklearn.pipeline import Pipeline\n",
        "from sklearn.preprocessing import Normalizer\n",
        "from sklearn.preprocessing import RobustScaler\n",
        "from sklearn.preprocessing import QuantileTransformer\n",
        "from sklearn.preprocessing import PowerTransformer\n",
        "from sklearn.preprocessing import StandardScaler\n",
        "from sklearn.model_selection import GridSearchCV\n",
        "import pickle\n",
        "import joblib"
      ],
      "execution_count": null,
      "outputs": []
    },
    {
      "cell_type": "markdown",
      "metadata": {
        "id": "lbOYFIeAiVUd"
      },
      "source": [
        "## 1.2 Get Data"
      ]
    },
    {
      "cell_type": "code",
      "metadata": {
        "id": "6L-TVHf2c3Wt"
      },
      "source": [
        "!gunzip 'listings.csv.gz'"
      ],
      "execution_count": null,
      "outputs": []
    },
    {
      "cell_type": "code",
      "metadata": {
        "id": "w2_4E8JziR5c"
      },
      "source": [
        "# Brought along the changes we made to the 'rio_listings' Dataframe.\n",
        "target_columns = [\"accommodates\", \"bathrooms\",\"bedrooms\",\"beds\",\"minimum_nights\",\n",
        "                  \"maximum_nights\",\"number_of_reviews\",\"price\"]\n",
        "          \n",
        "rio_listings = pd.read_csv(\"listings.csv\",usecols=target_columns)"
      ],
      "execution_count": null,
      "outputs": []
    },
    {
      "cell_type": "markdown",
      "metadata": {
        "id": "uOZoh-q0i1HP"
      },
      "source": [
        "## 1.3 Clean, Prepare & Manipulate Data"
      ]
    },
    {
      "cell_type": "code",
      "metadata": {
        "id": "Y504zijtjkxg"
      },
      "source": [
        "# Exploratory Data Analyzis (EDA)\n",
        "rio_listings.sample(5)"
      ],
      "execution_count": null,
      "outputs": []
    },
    {
      "cell_type": "code",
      "metadata": {
        "id": "b9vai6S3Dtui"
      },
      "source": [
        "# Check missing values\n",
        "rio_listings.info()"
      ],
      "execution_count": null,
      "outputs": []
    },
    {
      "cell_type": "code",
      "metadata": {
        "id": "qd2LbjvWi0Vn"
      },
      "source": [
        "# Data preparation\n",
        "stripped_commas = rio_listings['price'].str.replace(',', '')\n",
        "stripped_dollars = stripped_commas.str.replace('$', '')\n",
        "rio_listings['price'] = stripped_dollars.astype('float')\n",
        "\n",
        "# clean missing values\n",
        "rio_listings.dropna(axis=0,inplace=True)"
      ],
      "execution_count": null,
      "outputs": []
    },
    {
      "cell_type": "code",
      "metadata": {
        "id": "b-0v-61NjOPB"
      },
      "source": [
        "# Check missing values\n",
        "rio_listings.info()"
      ],
      "execution_count": null,
      "outputs": []
    },
    {
      "cell_type": "code",
      "metadata": {
        "id": "sTHaP7tl1GXv"
      },
      "source": [
        "# copy the dataset\n",
        "rio_iqr = rio_listings[target_columns].copy()\n",
        "\n",
        "# 25th Quartile\n",
        "Q1 = rio_iqr.quantile(0.25)\n",
        "\n",
        "# 75th Quartile\n",
        "Q3 = rio_iqr.quantile(0.75)\n",
        "\n",
        "# Inter-quartile range\n",
        "IQR = Q3 - Q1\n",
        "\n",
        "# lower limit\n",
        "low = Q1 - 1.5 * IQR\n",
        "\n",
        "# upper limit\n",
        "up = Q3 + 1.5 * IQR\n",
        "\n",
        "# remove outliers\n",
        "rio_iqr = rio_iqr[((rio_iqr > low).all(axis=1) & (rio_iqr < up).all(axis=1))]"
      ],
      "execution_count": null,
      "outputs": []
    },
    {
      "cell_type": "code",
      "metadata": {
        "id": "YhoNH1242DoA"
      },
      "source": [
        "print(f\"Before: {rio_listings.shape[0]} rows\\nAfter: {rio_iqr.shape[0]} rows\")\n",
        "print(\"Reduction of {:.2f} %\".format((1-rio_iqr.shape[0]/rio_listings.shape[0])*100))"
      ],
      "execution_count": null,
      "outputs": []
    },
    {
      "cell_type": "code",
      "metadata": {
        "id": "M__A_HFALwAg"
      },
      "source": [
        "# Identify feature with a high correlation to target\n",
        "rio_iqr.corr()[\"price\"].sort_values()"
      ],
      "execution_count": null,
      "outputs": []
    },
    {
      "cell_type": "code",
      "metadata": {
        "id": "wIqbiTn3L8ca"
      },
      "source": [
        "sns.heatmap(rio_iqr.corr())"
      ],
      "execution_count": null,
      "outputs": []
    },
    {
      "cell_type": "markdown",
      "metadata": {
        "id": "EOYkFkykdVD3"
      },
      "source": [
        "## 1.4 Train Model & Test Data (create a baseline model)"
      ]
    },
    {
      "cell_type": "code",
      "metadata": {
        "id": "awshM4b3p0XZ",
        "outputId": "c26f186b-69be-417b-8da9-9e1c386c1e2f",
        "colab": {
          "base_uri": "https://localhost:8080/",
          "height": 84
        }
      },
      "source": [
        "# Separate Data into a Training and Validation Datasets\n",
        "test_size = 0.20\n",
        "seed = 10\n",
        "\n",
        "x_train, x_test, y_train, y_test = train_test_split(rio_iqr.drop(axis=1,labels=[\"price\"]), \n",
        "                                                    rio_iqr[\"price\"],\n",
        "                                                    test_size=test_size, \n",
        "                                                    random_state=seed)\n",
        "\n",
        "print(f\"Train x: {x_train.shape}\\nTrain y: {y_train.shape}\")\n",
        "print(f\"Test x: {x_test.shape}\\nTest y: {y_test.shape}\")"
      ],
      "execution_count": 34,
      "outputs": [
        {
          "output_type": "stream",
          "text": [
            "Train x: (17809, 7)\n",
            "Train y: (17809,)\n",
            "Test x: (4453, 7)\n",
            "Test y: (4453,)\n"
          ],
          "name": "stdout"
        }
      ]
    },
    {
      "cell_type": "code",
      "metadata": {
        "id": "hmSRBBFsgW_a",
        "outputId": "1477534d-18db-4387-9b2a-c6c63713d92d",
        "colab": {
          "base_uri": "https://localhost:8080/",
          "height": 100
        }
      },
      "source": [
        "# Train a baseline\n",
        "\n",
        "# instantiate a knn object\n",
        "knn = KNeighborsRegressor(n_neighbors=5, n_jobs=-1)\n",
        "\n",
        "# train the model\n",
        "%time knn.fit(x_train,y_train)"
      ],
      "execution_count": 35,
      "outputs": [
        {
          "output_type": "stream",
          "text": [
            "CPU times: user 122 ms, sys: 626 µs, total: 122 ms\n",
            "Wall time: 139 ms\n"
          ],
          "name": "stdout"
        },
        {
          "output_type": "execute_result",
          "data": {
            "text/plain": [
              "KNeighborsRegressor(algorithm='auto', leaf_size=30, metric='minkowski',\n",
              "                    metric_params=None, n_jobs=-1, n_neighbors=5, p=2,\n",
              "                    weights='uniform')"
            ]
          },
          "metadata": {
            "tags": []
          },
          "execution_count": 35
        }
      ]
    },
    {
      "cell_type": "code",
      "metadata": {
        "id": "R7pZbv6YghrP",
        "outputId": "e9fb63ea-865a-4548-8070-030654bcf497",
        "colab": {
          "base_uri": "https://localhost:8080/",
          "height": 50
        }
      },
      "source": [
        "# predict\n",
        "%time predict = knn.predict(x_test)"
      ],
      "execution_count": 36,
      "outputs": [
        {
          "output_type": "stream",
          "text": [
            "CPU times: user 265 ms, sys: 3.52 ms, total: 269 ms\n",
            "Wall time: 211 ms\n"
          ],
          "name": "stdout"
        }
      ]
    },
    {
      "cell_type": "code",
      "metadata": {
        "id": "BcJGZYGal8l-",
        "outputId": "a619d6e7-d0f8-4813-8539-db5ce5f32fa8",
        "colab": {
          "base_uri": "https://localhost:8080/",
          "height": 33
        }
      },
      "source": [
        "# evaluate\n",
        "rmse = np.sqrt(mean_squared_error(y_test,predict))\n",
        "print(rmse)"
      ],
      "execution_count": 37,
      "outputs": [
        {
          "output_type": "stream",
          "text": [
            "257.4683188776641\n"
          ],
          "name": "stdout"
        }
      ]
    },
    {
      "cell_type": "code",
      "metadata": {
        "id": "ng1H1glhBx2U"
      },
      "source": [
        "# Create a PIPELINE to investigate different Normalization techniques!!!\n",
        "\n",
        "# Standardize the dataset\n",
        "pipelines_list = []\n",
        "pipelines_list.append(('NonScaledKnn', \n",
        "                  Pipeline([('KNN',\n",
        "                             KNeighborsRegressor(n_neighbors=5,n_jobs=-1))])))\n",
        "pipelines_list.append(('ScaledKnn', \n",
        "                  Pipeline([('Scaler', \n",
        "                             StandardScaler()),\n",
        "                            ('KNN',\n",
        "                             KNeighborsRegressor(n_neighbors=5, n_jobs=-1))])))\n",
        "\n",
        "pipelines_list.append(('NormalizedKnn', \n",
        "                  Pipeline([('Normalizer', \n",
        "                             Normalizer()),\n",
        "                            ('KNN',\n",
        "                             KNeighborsRegressor(n_neighbors=5, n_jobs=-1))])))\n",
        "\n",
        "pipelines_list.append(('RobustedKnn', \n",
        "                  Pipeline([('Robust', \n",
        "                             RobustScaler()),\n",
        "                            ('KNN',\n",
        "                             KNeighborsRegressor(n_neighbors=5, n_jobs=-1))])))\n",
        "\n",
        "pipelines_list.append(('QuantiledKnn', \n",
        "                  Pipeline([('Quantile', \n",
        "                             QuantileTransformer()),\n",
        "                            ('KNN',\n",
        "                             KNeighborsRegressor(n_neighbors=5, n_jobs=-1))])))\n",
        "\n",
        "pipelines_list.append(('PoweredKnn', \n",
        "                  Pipeline([('Power', \n",
        "                             PowerTransformer()),\n",
        "                            ('KNN',\n",
        "                             KNeighborsRegressor(n_neighbors=5, n_jobs=-1))])))"
      ],
      "execution_count": 38,
      "outputs": []
    },
    {
      "cell_type": "markdown",
      "metadata": {
        "id": "UBybNhSa_WPW"
      },
      "source": [
        "\n",
        "<img width=\"600\" alt=\"creating a repo\" src=\"https://drive.google.com/uc?export=view&id=1K6Gjqlrxte7qN1KPnlTNUKLGLxM-O0ZH\">"
      ]
    },
    {
      "cell_type": "code",
      "metadata": {
        "id": "wuBPMem_mnyo"
      },
      "source": [
        "# Using K-Fold Cross-Validation\n",
        "\n",
        "# Cross-validation allows us to compare different \n",
        "# machine learning methods and get a sense of how\n",
        "# well they will work in practice\n",
        "\n",
        "# Test options and evaluation metric\n",
        "num_folds = 10\n",
        "scoring = 'neg_mean_squared_error'"
      ],
      "execution_count": 39,
      "outputs": []
    },
    {
      "cell_type": "code",
      "metadata": {
        "id": "OXVIt4QugQX9",
        "outputId": "34d923e7-0b74-48ed-de5f-b5b5d8bab38e",
        "colab": {
          "base_uri": "https://localhost:8080/",
          "height": 150
        }
      },
      "source": [
        "pipelines_list[2][1]"
      ],
      "execution_count": 43,
      "outputs": [
        {
          "output_type": "execute_result",
          "data": {
            "text/plain": [
              "Pipeline(memory=None,\n",
              "         steps=[('Normalizer', Normalizer(copy=True, norm='l2')),\n",
              "                ('KNN',\n",
              "                 KNeighborsRegressor(algorithm='auto', leaf_size=30,\n",
              "                                     metric='minkowski', metric_params=None,\n",
              "                                     n_jobs=-1, n_neighbors=5, p=2,\n",
              "                                     weights='uniform'))],\n",
              "         verbose=False)"
            ]
          },
          "metadata": {
            "tags": []
          },
          "execution_count": 43
        }
      ]
    },
    {
      "cell_type": "code",
      "metadata": {
        "id": "XR6fzZy_SMbn",
        "outputId": "bc1c0283-6a7c-40e8-bba5-2daf97941ac3",
        "colab": {
          "base_uri": "https://localhost:8080/",
          "height": 117
        }
      },
      "source": [
        "results = []\n",
        "names = []\n",
        "\n",
        "for name, model in pipelines_list:\n",
        "  # k-fold size\n",
        "  kfold = KFold(n_splits=num_folds)\n",
        "  # cross validation\n",
        "  cv_results = cross_val_score(model, x_train, y_train, cv=kfold, scoring=scoring)\n",
        "  # store results\n",
        "  results.append(-cv_results)\n",
        "  names.append(name)\n",
        "  print(\"%s Mean: %f Std: %f\" % (name, \n",
        "                                      np.sqrt(-cv_results.mean()), \n",
        "                                      np.sqrt(cv_results.std())))"
      ],
      "execution_count": 44,
      "outputs": [
        {
          "output_type": "stream",
          "text": [
            "NonScaledKnn Mean: 258.165342 Std: 58.187715\n",
            "ScaledKnn Mean: 259.392466 Std: 63.027124\n",
            "NormalizedKnn Mean: 268.471385 Std: 53.202188\n",
            "RobustedKnn Mean: 257.081439 Std: 56.819537\n",
            "QuantiledKnn Mean: 256.213915 Std: 56.446269\n",
            "PoweredKnn Mean: 255.446941 Std: 59.693227\n"
          ],
          "name": "stdout"
        }
      ]
    },
    {
      "cell_type": "code",
      "metadata": {
        "id": "5bvCxHpPpk2k",
        "outputId": "9495e466-51c9-4201-ab9e-d25064312fe1",
        "colab": {
          "base_uri": "https://localhost:8080/",
          "height": 297
        }
      },
      "source": [
        "fig = plt.figure()\n",
        "ax = fig.add_subplot(111)\n",
        "plt.boxplot(results,showmeans=True,meanline=True,\n",
        "            medianprops = dict(linestyle='-', linewidth=1.0, color='red'),\n",
        "            meanprops = dict(linestyle='-', linewidth=1.0, color='green')\n",
        "            )\n",
        "ax.set_xticklabels(names,rotation=90)\n",
        "plt.title('Scaled Algorithm Comparison')\n",
        "plt.tight_layout()\n",
        "\n",
        "plt.plot([],label=\"Median\",color=\"red\")\n",
        "plt.plot([],label=\"Mean\",color=\"green\")\n",
        "plt.legend()\n",
        "plt.show()"
      ],
      "execution_count": 45,
      "outputs": [
        {
          "output_type": "display_data",
          "data": {
            "image/png": "[encoded data removed]",
            "text/plain": [
              "<Figure size 432x288 with 1 Axes>"
            ]
          },
          "metadata": {
            "tags": [],
            "needs_background": "light"
          }
        }
      ]
    },
    {
      "cell_type": "markdown",
      "metadata": {
        "id": "jOLQycnwualq"
      },
      "source": [
        "## 1.5 Improve the model"
      ]
    },
    {
      "cell_type": "code",
      "metadata": {
        "id": "sAhwAcsJ61sZ",
        "outputId": "e8fe9134-822e-4890-825b-b2fa729c3035",
        "colab": {
          "base_uri": "https://localhost:8080/",
          "height": 50
        }
      },
      "source": [
        "# KNN Algorithm tuning (beat the baseline)\n",
        "\n",
        "# hyperparameter\n",
        "k_values = np.array([1,5,10,15,20,25])\n",
        "weights = [\"uniform\",\"distance\"]\n",
        "algorithm = ['auto', 'ball_tree', 'kd_tree', 'brute']\n",
        "metric = [1,2]\n",
        "\n",
        "# number of combinations\n",
        "models = (len(k_values) * len(weights) * len(algorithm) * len(metric))\n",
        "rounds = models * num_folds\n",
        "\n",
        "print(f\"Number of models: {models}\")\n",
        "print(f\"Complexity of evalution: {rounds} rounds\")\n",
        "\n",
        "param_grid = dict(n_neighbors=k_values, \n",
        "                  weights=weights,\n",
        "                  algorithm=algorithm,\n",
        "                  p=metric)\n",
        "\n",
        "# Instantiate a normalization algorithm\n",
        "pt = PowerTransformer()\n",
        "# Learning the stats from feature\n",
        "pt.fit(x_train)\n",
        "# Transform x train\n",
        "scaler = pt.transform(x_train)\n",
        "\n",
        "# instantiate a model\n",
        "model = KNeighborsRegressor()\n",
        "\n",
        "# Test options and evaluation metric\n",
        "num_folds = 10\n",
        "scoring = 'neg_mean_squared_error'\n",
        "\n",
        "# Grid Searcing with cross-validation\n",
        "kfold = KFold(n_splits=num_folds)\n",
        "grid = GridSearchCV(estimator=model, \n",
        "                    param_grid=param_grid, \n",
        "                    scoring=scoring,\n",
        "                    cv=kfold)"
      ],
      "execution_count": 49,
      "outputs": [
        {
          "output_type": "stream",
          "text": [
            "Number of models: 96\n",
            "Complexity of evalution: 960 rounds\n"
          ],
          "name": "stdout"
        }
      ]
    },
    {
      "cell_type": "code",
      "metadata": {
        "id": "-C9l0e_9VO5s"
      },
      "source": [
        "# train the model\n",
        "grid_result = grid.fit(scaler, y_train)\n",
        "\n",
        "# Print results\n",
        "print(\"Best: %f using %s\" % (np.sqrt(-grid_result.best_score_), \n",
        "                             grid_result.best_params_))\n",
        "\n",
        "means = np.sqrt(-grid_result.cv_results_['mean_test_score'])\n",
        "stds = np.sqrt(grid_result.cv_results_['std_test_score'])\n",
        "params = grid_result.cv_results_['params']\n",
        "for mean, stdev, param in zip(means, stds, params):\n",
        "  print(\"%f (%f) with: %r\" % (mean, stdev, param))"
      ],
      "execution_count": null,
      "outputs": []
    },
    {
      "cell_type": "code",
      "metadata": {
        "id": "7bnQkmDXXk29"
      },
      "source": [
        "result = pd.DataFrame(grid_result.cv_results_)\n",
        "result.head()"
      ],
      "execution_count": null,
      "outputs": []
    },
    {
      "cell_type": "code",
      "metadata": {
        "id": "2v4sqW-4w8kn",
        "outputId": "f0fa328f-7ff8-4999-b94f-dda86da55038",
        "colab": {
          "base_uri": "https://localhost:8080/",
          "height": 33
        }
      },
      "source": [
        "result.shape"
      ],
      "execution_count": 52,
      "outputs": [
        {
          "output_type": "execute_result",
          "data": {
            "text/plain": [
              "(96, 22)"
            ]
          },
          "metadata": {
            "tags": []
          },
          "execution_count": 52
        }
      ]
    },
    {
      "cell_type": "code",
      "metadata": {
        "id": "ulVJtSJ4MzRg"
      },
      "source": [
        "result.sort_values(by=\"rank_test_score\")"
      ],
      "execution_count": null,
      "outputs": []
    },
    {
      "cell_type": "markdown",
      "metadata": {
        "id": "wtiflTN1MGl8"
      },
      "source": [
        "## 1.6 Finalize Model"
      ]
    },
    {
      "cell_type": "code",
      "metadata": {
        "id": "deOScBbWNlmE",
        "outputId": "007b59bc-8fde-4160-df55-a8a1a900430c",
        "colab": {
          "base_uri": "https://localhost:8080/",
          "height": 33
        }
      },
      "source": [
        "# predict using the best estimator\n",
        "# pay attention in normalizer instance that was the same used in the train\n",
        "predict = grid_result.best_estimator_.predict(pt.transform(x_test))\n",
        "rmse = np.sqrt(mean_squared_error(y_test,predict))\n",
        "print(rmse)"
      ],
      "execution_count": 55,
      "outputs": [
        {
          "output_type": "stream",
          "text": [
            "239.57390023355893\n"
          ],
          "name": "stdout"
        }
      ]
    },
    {
      "cell_type": "code",
      "metadata": {
        "id": "mjkUt5cCYtxB"
      },
      "source": [
        "# Save the model using pickle\n",
        "with open('pipe.pkl', 'wb') as file:\n",
        "  pickle.dump(grid_result, file)"
      ],
      "execution_count": 56,
      "outputs": []
    },
    {
      "cell_type": "code",
      "metadata": {
        "id": "HXpVSa0sNs8H"
      },
      "source": [
        "# Save the model using joblib\n",
        "with open('pipe.joblib', 'wb') as file:\n",
        "  joblib.dump(grid_result, file)"
      ],
      "execution_count": 57,
      "outputs": []
    },
    {
      "cell_type": "code",
      "metadata": {
        "id": "jVw9l9AEY4cw",
        "outputId": "0c99d402-4948-4c44-f15e-162e29684845",
        "colab": {
          "base_uri": "https://localhost:8080/",
          "height": 33
        }
      },
      "source": [
        "# Under the production environment [pickle]\n",
        "with open('pipe.pkl', 'rb') as file:\n",
        "  model = pickle.load(file)\n",
        "\n",
        "predict = model.best_estimator_.predict(pt.transform(x_test))\n",
        "rmse = np.sqrt(mean_squared_error(predict,y_test))\n",
        "print(rmse)  "
      ],
      "execution_count": 58,
      "outputs": [
        {
          "output_type": "stream",
          "text": [
            "239.57390023355893\n"
          ],
          "name": "stdout"
        }
      ]
    },
    {
      "cell_type": "code",
      "metadata": {
        "id": "IjRzTo-8OPPA",
        "outputId": "2e9fb46f-4339-4c2a-9319-7f8946d118fb",
        "colab": {
          "base_uri": "https://localhost:8080/",
          "height": 33
        }
      },
      "source": [
        "# Under the production environment [joblib]\n",
        "with open('pipe.joblib', 'rb') as file:\n",
        "  model = joblib.load(file)\n",
        "\n",
        "predict = model.best_estimator_.predict(pt.transform(x_test))\n",
        "rmse = np.sqrt(mean_squared_error(predict,y_test))\n",
        "print(rmse)"
      ],
      "execution_count": 59,
      "outputs": [
        {
          "output_type": "stream",
          "text": [
            "239.57390023355893\n"
          ],
          "name": "stdout"
        }
      ]
    },
    {
      "cell_type": "markdown",
      "metadata": {
        "id": "qFuzGLK56ET7"
      },
      "source": [
        "# 2.0 References"
      ]
    },
    {
      "cell_type": "markdown",
      "metadata": {
        "id": "z6_YTP186FwV"
      },
      "source": [
        "1. https://machinelearningmastery.com/k-fold-cross-validation/\n",
        "2. https://scikit-learn.org/stable/modules/cross_validation.html\n",
        "3. https://en.wikipedia.org/wiki/Cross-validation_(statistics)\n",
        "4. https://scikit-learn.org/stable/modules/model_persistence.html"
      ]
    }
  ]
}